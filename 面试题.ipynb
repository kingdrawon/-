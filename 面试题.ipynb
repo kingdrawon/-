{
 "cells": [
  {
   "cell_type": "markdown",
   "metadata": {},
   "source": [
    "# 面试笔试题"
   ]
  },
  {
   "cell_type": "markdown",
   "metadata": {},
   "source": [
    "### 某奥科技面试"
   ]
  },
  {
   "cell_type": "markdown",
   "metadata": {},
   "source": [
    "1. 异常值的概述，请列举1种识别连续型变量异常值的方法？\n",
    "2. 逻辑回归和线性回归的损失函数有什么不同？\n",
    "3. 有12345五个球，从其中取俩个，计算和为3或6的概率？\n",
    "4. 什么是python的装饰器，实现一个装饰器并说明其功能\n",
    "5. N个孩子站在一条线上，给每个孩子分配一个数字，你需要满足下面的要求给孩子们分糖果：每个孩子至少有一个糖果数字更大的孩子要比旁边孩子的糖果多，例如N个人的分数为[1,0,2],那么就会分到五个糖果，分数为[1,2,2]，则发4个糖果。\n",
    "6. 使用一个排序算法实现列表的排序。\n",
    "7. pandas有个DataFrame,df有俩个列A.B 如果A的值大于3，那么将B的第一个元素变为1，否则不变\n",
    "8. 什么是聚类分析，都有哪些方法？挑选其中一个具体说明步骤。"
   ]
  },
  {
   "cell_type": "markdown",
   "metadata": {},
   "source": [
    "***答案***"
   ]
  },
  {
   "cell_type": "markdown",
   "metadata": {},
   "source": [
    "1. 异常值是指样本中的个别值，其数值明显偏离所属样本的其余观测值。在数理统计里一般是指一组观袭测值中与平均值的偏差超过两倍标准差的测定值。Grubbs test（格拉布斯检验法），是一种用于单变量数据集异常值识别的统计检测，它假定数据集来自正态分布的总体。未知总体标准差σ，在五种检知验法中，优劣次序为：t检验法、格拉道布斯检验法、峰度检验法、狄克逊检验法、偏度检验法。"
   ]
  },
  {
   "cell_type": "markdown",
   "metadata": {},
   "source": [
    "2. 对于线性函数来说，我们使用平方形式的时候，使用了“最小二乘”的思想，就是用平方来度量估计值与真实值的距离，使其达到最小。而且，如果假设误差服从正态分布，它与最大似然估计在本质上是相同的。理论上来说，我们也可以在逻辑回归中沿用均方误差函数，但是把sigmod函数带入均方误差函数时，得到的函数是非凸函数，有许多局部最小值。所以定义新的损失函数。当然这也可以用最大似然方法来得到这样的形式。"
   ]
  },
  {
   "cell_type": "markdown",
   "metadata": {},
   "source": [
    "3. 总共有$c^2_5 = 10$种，计算和为3的有一种可能，和为6的有俩种可能。所以总共的概率为$\\frac {3}{10}$"
   ]
  },
  {
   "cell_type": "markdown",
   "metadata": {},
   "source": [
    "4. 装饰器的底层是用闭包结构实现的。装饰器用来处理被装饰函数的，扩展被装饰函数的功能。"
   ]
  },
  {
   "cell_type": "code",
   "execution_count": 1,
   "metadata": {},
   "outputs": [
    {
     "name": "stdout",
     "output_type": "stream",
     "text": [
      "哈哈，是这样的\n",
      "执行时间：0.23342561721801758\n",
      "哈哈，是这样的\n",
      "1999999000001\n"
     ]
    }
   ],
   "source": [
    "import time\n",
    "def set_func(func):\n",
    "    # 计算函数运行的时间\n",
    "    def call_func():\n",
    "        start_time = time.time()\n",
    "        func()\n",
    "        end_time = time.time()\n",
    "        print(f'执行时间：{end_time - start_time}')\n",
    "        # 如果被修饰函数有返回值，那么必须在这儿进行return，不然会出现None\n",
    "        return func()\n",
    "    return call_func\n",
    "\n",
    "@set_func\n",
    "def test():\n",
    "    print('哈哈，是这样的')\n",
    "    a=1\n",
    "    for i in range(2000000):\n",
    "        a = a+i\n",
    "    return a\n",
    "    \n",
    "print(test())   \n"
   ]
  },
  {
   "cell_type": "markdown",
   "metadata": {},
   "source": [
    "5. 至少需要糖果问题。(下面解析是leetcode官网的解析，你也可以从官网去找更加优化的答案)\n",
    "    * 暴力遍历。最简单的方法是使用一个一维的数组 candiescandies 去记录给学生的糖果数。首先我们给每个学生 1 个糖果。然后我们开始从左到右扫描数组。对每一个学生，如果当前的评分 ratings[i]ratings[i] 比前一名学生的评分 ratings[i - 1]ratings[i−1] 高，且 candies[i]<=candies[i - 1]candies[i]<=candies[i−1] ，那么我们更新 candies[i] = candies[i-1] + 1candies[i]=candies[i−1]+1。这样，这两名学生之间的糖果分配目前是正确的。同样的，我们检查当前学生的评分 ratings[i]ratings[i] 是否比 ratings[i+1]ratings[i+1] 高，如果成立，我们同样更新 candies[i]=candies[i+1] + 1candies[i]=candies[i+1]+1 。我们继续对 ratingsratings 数组重复此步骤。如果在某次遍历中， candiescandies 数组不再变化，意味着我们已经得到了最后的糖果分布，此时可以停止遍历。为了记录是否到达最终状态，我们用 flagflag 记录每次遍历是否有糖果数目变化，如果有，则为$\\text{True}$ ，否则为 $\\text{False}$。\n",
    "    * 用俩个数组。在这种方法中，我们使用两个一维数组 left2rightleft2right 和 right2leftright2left 。数组 left2rightleft2right 用来存储每名学生只与左边邻居有关的所需糖果数。也就是假设规则为：如果一名学生评分比他左边学生高，那么他应该比他左边学生得到更多糖果。类似的，right2leftright2left 数组用来保存只与右边邻居有关的所需糖果数。也就是假设规则为：如果一名学生评分比他右边学生高，那么他应该比他右边学生得到更多糖果。首先，我们在 left2rigthleft2rigth 和 right2leftright2left 中，给每个学生 1 个糖果。然后，我们从左向右遍历整个数组，只要当前学生评分比他左邻居高，我们在 left2rightleft2right 数组中更新当前学生的糖果数 \n",
    "    left2right[i] = left2right[i-1] + 1left2right[i]=left2right[i−1]+1，\n",
    "    这是因为在每次更新前，当前学生的糖果数一定小于等于他左邻居的糖果数。在从左到右扫描后，我们用同样的方法从右到左只要当前学生的评分比他右边（第 (i+1)(i+1) 个）学生高，就更新 right2left[i]right2left[i] 为 \n",
    "    $$right2left[i] = right2left[i + 1] + 1right2left[i]=right2left[i+1]+1 $$\n",
    "    。现在，对于数组中第 ii 个学生，为了满足题中条件，我们需要给他 \n",
    "    $$\\text{max}(left2right[i], right2left[i])max(left2right[i],right2left[i]) $$\n",
    "    个糖果。因此，最后我们得到最少糖果数：\n",
    "        $$ minimum\\_candies=\\sum_{i=0}^{n-1} \\text{max}(left2right[i], right2left[i])$$\n",
    "        \n",
    "\n"
   ]
  },
  {
   "cell_type": "code",
   "execution_count": 2,
   "metadata": {},
   "outputs": [],
   "source": [
    "def candy(rating):\n",
    "    length = len(rating)\n",
    "    if length == 0 or rating is None:\n",
    "        return 0\n",
    "    left2right = [1]*length\n",
    "    right2letf = [1]*length\n",
    "    for i in range(1,length):\n",
    "        if rating[i]>rating[i-1]:\n",
    "            left2right[i] = left2right[i-1]+1\n",
    "            \n",
    "    for j in range(length-1,0,-1):\n",
    "        if rating[j]< rating[j-1]:\n",
    "            right2letf[j-1]=right2letf[j]+1\n",
    "            left2right[i-1] = max(left2right[i-1],left2right[i]+1)\n",
    "            \n",
    "#     final = sum(max(left2right,right2letf))\n",
    "        \n",
    "    return sum(left2right)"
   ]
  },
  {
   "cell_type": "markdown",
   "metadata": {},
   "source": [
    "6. 排序"
   ]
  },
  {
   "cell_type": "code",
   "execution_count": 4,
   "metadata": {},
   "outputs": [
    {
     "name": "stdout",
     "output_type": "stream",
     "text": [
      "[5, 7, 12, 34, 46, 123, 345]\n",
      "执行时间：0.2446291446685791\n"
     ]
    }
   ],
   "source": [
    "def time_func(func):\n",
    "    # 计算函数运行的时间\n",
    "    def call_func(li):\n",
    "        start_time = time.time()\n",
    "        func(li)\n",
    "        end_time = time.time()\n",
    "        print(f'执行时间：{end_time - start_time}')\n",
    "        # 如果被修饰函数有返回值，那么必须在这儿进行return，不然会出现None\n",
    "#         return func(li)\n",
    "    return call_func\n",
    "@time_func\n",
    "def sort_select(li):\n",
    "    new_li = []\n",
    "    import numpy as np\n",
    "    while len(li)!=0:\n",
    "        min_num_index = np.argmin(li)\n",
    "        new_li.append(li[min_num_index])\n",
    "        del li[min_num_index]\n",
    "    print(new_li)    \n",
    "\n",
    "li = [34,12,345,5,7,123,46]\n",
    "sort_select(li)\n"
   ]
  },
  {
   "cell_type": "markdown",
   "metadata": {},
   "source": [
    "7. DataFrame"
   ]
  },
  {
   "cell_type": "code",
   "execution_count": 9,
   "metadata": {},
   "outputs": [
    {
     "data": {
      "text/html": [
       "<div>\n",
       "<style scoped>\n",
       "    .dataframe tbody tr th:only-of-type {\n",
       "        vertical-align: middle;\n",
       "    }\n",
       "\n",
       "    .dataframe tbody tr th {\n",
       "        vertical-align: top;\n",
       "    }\n",
       "\n",
       "    .dataframe thead th {\n",
       "        text-align: right;\n",
       "    }\n",
       "</style>\n",
       "<table border=\"1\" class=\"dataframe\">\n",
       "  <thead>\n",
       "    <tr style=\"text-align: right;\">\n",
       "      <th></th>\n",
       "      <th>A</th>\n",
       "      <th>B</th>\n",
       "      <th>C</th>\n",
       "    </tr>\n",
       "  </thead>\n",
       "  <tbody>\n",
       "    <tr>\n",
       "      <th>0</th>\n",
       "      <td>1</td>\n",
       "      <td>[2, 12, 10]</td>\n",
       "      <td>3</td>\n",
       "    </tr>\n",
       "    <tr>\n",
       "      <th>1</th>\n",
       "      <td>34</td>\n",
       "      <td>[1, 133, 1]</td>\n",
       "      <td>5</td>\n",
       "    </tr>\n",
       "    <tr>\n",
       "      <th>2</th>\n",
       "      <td>3</td>\n",
       "      <td>[5]</td>\n",
       "      <td>14</td>\n",
       "    </tr>\n",
       "  </tbody>\n",
       "</table>\n",
       "</div>"
      ],
      "text/plain": [
       "    A            B   C\n",
       "0   1  [2, 12, 10]   3\n",
       "1  34  [1, 133, 1]   5\n",
       "2   3          [5]  14"
      ]
     },
     "execution_count": 9,
     "metadata": {},
     "output_type": "execute_result"
    }
   ],
   "source": [
    "import pandas as pd\n",
    "data = pd.DataFrame([[1,[2,12,10],3],[34,[12,133,1],5],[3,[5],14]],columns=['A','B','C'])\n",
    "\n",
    "def compare(a,b):\n",
    "    if a>3:\n",
    "        b[0]=1\n",
    "    return b\n",
    "\n",
    "data['B'] = data.apply(lambda row: compare(row['A'],row['B']),axis=1)\n",
    "data\n"
   ]
  },
  {
   "cell_type": "markdown",
   "metadata": {},
   "source": [
    "8. 聚类 \n",
    "\n",
    "**定义**： 聚类分析是一种无监督的学习方法，是i将数据集划分为若干相似对象组成的多个组或是簇，使得同一组之间的对象的相似性最大化，不同组见的相似性最小化。\n",
    "\n",
    "**方法**： \n",
    "   1. 划分法，以距离作为数据集中不同数据间的相似性度量。--k-means,k-medoids\n",
    "   2. 层次法，对给定的数据集进行层次分解，形成一个树形的聚类结果。--GN算法，DIANA算法（自顶向下）, --AGNES算法（自底向上）\n",
    "   3. 密度法，--DBSCAN算法 \n",
    "\n",
    "### k-means\n",
    "**步骤：**\n",
    "   * 首先随机从样本中抽取k个中心点\n",
    "   * 计算两点间的距离\n",
    "   * 开始使用聚类实现\n",
    "       * 用一个向量来存贮每个样本属于哪个簇\n",
    "       * 计算每个样本到所有中心点的 距离，并且将样本分配到距离最近的中心点所在的簇（分配前判断是否簇发生改变，不改变就不更新）\n",
    "       * 计算簇新的中心点（各簇中点的平均值）更新中心点，回到上部进行迭代。\n",
    "       \n",
    "**k-means算法的评价：误差平方和准则**   \n",
    "$$E = \\sum_{i=1}^{k}\\sum _{p_{ci}}\\left | p-m_i \\right |^2 $$\n",
    "    K为簇的个数，$m_i$是簇$c_i$的均值，p为簇$c_i$的样本点，E值越小簇内样本相似性越高。\n",
    "    \n",
    "**可以用肘部法来选取K的取值**    \n",
    "\n",
    "**优缺点**：\n",
    "   1. 可扩展性好，算法复杂度为O（nkt）,(样本数，簇数，迭代次数)\n",
    "   2. 簇数目得提前给定，但难以选定\n",
    "   3. 初始聚类的中心的选择对象对聚类结果影星很大\n",
    "   4. 对数据集要求高，试合处理球状聚类\n",
    "   5. 对噪声和离群点数据敏感\n",
    "\n",
    "**k-means++解决了中心点选择的问题,第一个随机选取,后面的中心点选取用距离来衡量,距离越远,那么成为第二个中心点的概率越大,以此类推。**   \n",
    "    "
   ]
  },
  {
   "cell_type": "markdown",
   "metadata": {},
   "source": [
    "### DBSCAN\n",
    "**定义：基于密度的聚类是寻找被低密度区域分离的高密度区域。**\n",
    "\n",
    "**步骤：**\n",
    "   1. 将数据集的中所有的样本标记为未处理状态\n",
    "   2. 循环遍历数据集中的每个对象P，若P已经归入某个簇或标记为噪声，则查看下一个对象。\n",
    "   3. 否则检查对象P的邻域N_eps(p)\n",
    "   4. 若N_eps(p)包含的对象数小于MinPoints,则将对象标记为边界点或是噪声。\n",
    "   5. 否则标记对象P为核心点，并建立新簇C，并将P邻域内的所有点加入C\n",
    "   6. 循环遍历N_eps(p)中所有为被处理的对象q\n",
    "   7. 检查邻域N_eps(q),若N_eps(q)包含至少MinPoints个对象，则将N_eps(q)中为加入任何一个簇的对象加入C\n",
    "   8. 直到所有的对象都已标记。\n",
    "   \n",
    "**简易步骤**\n",
    "   * DBSCAN通过检查数据集中每点的邻域来搜索簇，如果点P的eps邻域包含的人点多于MinPoints，则创建一个以P为核心的对象的簇，然后DBSCAN迭代地聚集这些核心对象直接密度可达的对象，这个过程可能涉及一些密度可达簇的合并。当没有新的点添加到任何簇时，该过程结束。\n",
    "   \n",
    "**优缺点**：\n",
    "   1. 对噪声不敏感\n",
    "   2. 可以i处理不同形状和大小的数据\n",
    "   3. 当簇的密度变化太大时，处理麻烦\n",
    "   4. 对于高维问题，密度定义是个麻烦的问题\n",
    "\n",
    "**复杂度**：\n",
    "    时间复杂度为O(N*T),(N为样本点，T为找出邻域中所有的点所需的时间),最坏情况为O（N^2)\n",
    "    空间复杂度为O（N）   "
   ]
  },
  {
   "cell_type": "code",
   "metadata": {
    "pycharm": {
     "name": "#%%\n"
    }
   },
   "source": [],
   "execution_count": null,
   "outputs": []
  }
 ],
 "metadata": {
  "kernelspec": {
   "display_name": "Python 3",
   "language": "python",
   "name": "python3"
  },
  "language_info": {
   "codemirror_mode": {
    "name": "ipython",
    "version": 3
   },
   "file_extension": ".py",
   "mimetype": "text/x-python",
   "name": "python",
   "nbconvert_exporter": "python",
   "pygments_lexer": "ipython3",
   "version": "3.6.10"
  },
  "pycharm": {
   "stem_cell": {
    "cell_type": "raw",
    "source": [],
    "metadata": {
     "collapsed": false
    }
   }
  }
 },
 "nbformat": 4,
 "nbformat_minor": 4
}